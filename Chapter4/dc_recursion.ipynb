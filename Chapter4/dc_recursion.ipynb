{
 "cells": [
  {
   "cell_type": "markdown",
   "id": "10b1f437",
   "metadata": {},
   "source": [
    "## Recursion Sum"
   ]
  },
  {
   "cell_type": "code",
   "execution_count": 17,
   "id": "bb5baa78",
   "metadata": {},
   "outputs": [],
   "source": [
    "def summation(arr):\n",
    "    if not arr:\n",
    "        return 0\n",
    "    return arr[0] + sum(arr[1:])"
   ]
  },
  {
   "cell_type": "code",
   "execution_count": 18,
   "id": "3953513c",
   "metadata": {},
   "outputs": [
    {
     "data": {
      "text/plain": [
       "64"
      ]
     },
     "execution_count": 18,
     "metadata": {},
     "output_type": "execute_result"
    }
   ],
   "source": [
    "summation([1,3,4,56])"
   ]
  },
  {
   "cell_type": "markdown",
   "id": "5f42ea1f",
   "metadata": {},
   "source": [
    "## Recursion Count"
   ]
  },
  {
   "cell_type": "code",
   "execution_count": 19,
   "id": "76b509e1",
   "metadata": {},
   "outputs": [],
   "source": [
    "def counter(arr):\n",
    "    if not arr:\n",
    "        return 0\n",
    "    return 1 + count(arr[1:])"
   ]
  },
  {
   "cell_type": "code",
   "execution_count": 23,
   "id": "8c2f3f84",
   "metadata": {},
   "outputs": [
    {
     "data": {
      "text/plain": [
       "5"
      ]
     },
     "execution_count": 23,
     "metadata": {},
     "output_type": "execute_result"
    }
   ],
   "source": [
    "counter([1,3,4,5,6])"
   ]
  },
  {
   "cell_type": "markdown",
   "id": "0ab8154c",
   "metadata": {},
   "source": [
    "## Recursion Maximum"
   ]
  },
  {
   "cell_type": "code",
   "execution_count": 21,
   "id": "2eebd587",
   "metadata": {},
   "outputs": [],
   "source": [
    "def maximum(arr):\n",
    "    if len(arr) == 2:\n",
    "        return arr[0] if arr[1] < arr[0] else arr[1]\n",
    "    sub_max = maximum(arr[1:])\n",
    "    return arr[0] if arr[0] > sub_max else sub_max"
   ]
  },
  {
   "cell_type": "code",
   "execution_count": 22,
   "id": "4183c500",
   "metadata": {},
   "outputs": [
    {
     "data": {
      "text/plain": [
       "454"
      ]
     },
     "execution_count": 22,
     "metadata": {},
     "output_type": "execute_result"
    }
   ],
   "source": [
    "maximum([1,3,454,56])"
   ]
  },
  {
   "cell_type": "code",
   "execution_count": null,
   "id": "1ea65d69",
   "metadata": {},
   "outputs": [],
   "source": []
  }
 ],
 "metadata": {
  "kernelspec": {
   "display_name": "Python 3 (ipykernel)",
   "language": "python",
   "name": "python3"
  },
  "language_info": {
   "codemirror_mode": {
    "name": "ipython",
    "version": 3
   },
   "file_extension": ".py",
   "mimetype": "text/x-python",
   "name": "python",
   "nbconvert_exporter": "python",
   "pygments_lexer": "ipython3",
   "version": "3.11.4"
  }
 },
 "nbformat": 4,
 "nbformat_minor": 5
}
